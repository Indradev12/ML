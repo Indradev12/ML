{
 "cells": [
  {
   "cell_type": "code",
   "execution_count": 1,
   "id": "a94d81d0",
   "metadata": {},
   "outputs": [],
   "source": [
    "import pandas as pd\n",
    "import numpy as np\n",
    "import matplotlib.pyplot as plt\n",
    "import seaborn as sns"
   ]
  },
  {
   "cell_type": "code",
   "execution_count": 2,
   "id": "51eb3bce",
   "metadata": {},
   "outputs": [
    {
     "name": "stderr",
     "output_type": "stream",
     "text": [
      "C:\\Users\\INDRADEV.DESKTOP-G900EBG\\AppData\\Local\\Temp\\ipykernel_13144\\3004873633.py:1: DtypeWarning: Columns (3) have mixed types. Specify dtype option on import or set low_memory=False.\n",
      "  df_books = pd.read_csv('Books.csv')\n"
     ]
    }
   ],
   "source": [
    "df_books = pd.read_csv('Books.csv')"
   ]
  },
  {
   "cell_type": "code",
   "execution_count": 3,
   "id": "21022bea",
   "metadata": {},
   "outputs": [
    {
     "data": {
      "text/html": [
       "<div>\n",
       "<style scoped>\n",
       "    .dataframe tbody tr th:only-of-type {\n",
       "        vertical-align: middle;\n",
       "    }\n",
       "\n",
       "    .dataframe tbody tr th {\n",
       "        vertical-align: top;\n",
       "    }\n",
       "\n",
       "    .dataframe thead th {\n",
       "        text-align: right;\n",
       "    }\n",
       "</style>\n",
       "<table border=\"1\" class=\"dataframe\">\n",
       "  <thead>\n",
       "    <tr style=\"text-align: right;\">\n",
       "      <th></th>\n",
       "      <th>ISBN</th>\n",
       "      <th>Book-Title</th>\n",
       "      <th>Book-Author</th>\n",
       "      <th>Year-Of-Publication</th>\n",
       "      <th>Publisher</th>\n",
       "      <th>Image-URL-S</th>\n",
       "      <th>Image-URL-M</th>\n",
       "      <th>Image-URL-L</th>\n",
       "    </tr>\n",
       "  </thead>\n",
       "  <tbody>\n",
       "    <tr>\n",
       "      <th>0</th>\n",
       "      <td>0195153448</td>\n",
       "      <td>Classical Mythology</td>\n",
       "      <td>Mark P. O. Morford</td>\n",
       "      <td>2002</td>\n",
       "      <td>Oxford University Press</td>\n",
       "      <td>http://images.amazon.com/images/P/0195153448.0...</td>\n",
       "      <td>http://images.amazon.com/images/P/0195153448.0...</td>\n",
       "      <td>http://images.amazon.com/images/P/0195153448.0...</td>\n",
       "    </tr>\n",
       "    <tr>\n",
       "      <th>1</th>\n",
       "      <td>0002005018</td>\n",
       "      <td>Clara Callan</td>\n",
       "      <td>Richard Bruce Wright</td>\n",
       "      <td>2001</td>\n",
       "      <td>HarperFlamingo Canada</td>\n",
       "      <td>http://images.amazon.com/images/P/0002005018.0...</td>\n",
       "      <td>http://images.amazon.com/images/P/0002005018.0...</td>\n",
       "      <td>http://images.amazon.com/images/P/0002005018.0...</td>\n",
       "    </tr>\n",
       "    <tr>\n",
       "      <th>2</th>\n",
       "      <td>0060973129</td>\n",
       "      <td>Decision in Normandy</td>\n",
       "      <td>Carlo D'Este</td>\n",
       "      <td>1991</td>\n",
       "      <td>HarperPerennial</td>\n",
       "      <td>http://images.amazon.com/images/P/0060973129.0...</td>\n",
       "      <td>http://images.amazon.com/images/P/0060973129.0...</td>\n",
       "      <td>http://images.amazon.com/images/P/0060973129.0...</td>\n",
       "    </tr>\n",
       "    <tr>\n",
       "      <th>3</th>\n",
       "      <td>0374157065</td>\n",
       "      <td>Flu: The Story of the Great Influenza Pandemic...</td>\n",
       "      <td>Gina Bari Kolata</td>\n",
       "      <td>1999</td>\n",
       "      <td>Farrar Straus Giroux</td>\n",
       "      <td>http://images.amazon.com/images/P/0374157065.0...</td>\n",
       "      <td>http://images.amazon.com/images/P/0374157065.0...</td>\n",
       "      <td>http://images.amazon.com/images/P/0374157065.0...</td>\n",
       "    </tr>\n",
       "    <tr>\n",
       "      <th>4</th>\n",
       "      <td>0393045218</td>\n",
       "      <td>The Mummies of Urumchi</td>\n",
       "      <td>E. J. W. Barber</td>\n",
       "      <td>1999</td>\n",
       "      <td>W. W. Norton &amp;amp; Company</td>\n",
       "      <td>http://images.amazon.com/images/P/0393045218.0...</td>\n",
       "      <td>http://images.amazon.com/images/P/0393045218.0...</td>\n",
       "      <td>http://images.amazon.com/images/P/0393045218.0...</td>\n",
       "    </tr>\n",
       "  </tbody>\n",
       "</table>\n",
       "</div>"
      ],
      "text/plain": [
       "         ISBN                                         Book-Title  \\\n",
       "0  0195153448                                Classical Mythology   \n",
       "1  0002005018                                       Clara Callan   \n",
       "2  0060973129                               Decision in Normandy   \n",
       "3  0374157065  Flu: The Story of the Great Influenza Pandemic...   \n",
       "4  0393045218                             The Mummies of Urumchi   \n",
       "\n",
       "            Book-Author Year-Of-Publication                   Publisher  \\\n",
       "0    Mark P. O. Morford                2002     Oxford University Press   \n",
       "1  Richard Bruce Wright                2001       HarperFlamingo Canada   \n",
       "2          Carlo D'Este                1991             HarperPerennial   \n",
       "3      Gina Bari Kolata                1999        Farrar Straus Giroux   \n",
       "4       E. J. W. Barber                1999  W. W. Norton &amp; Company   \n",
       "\n",
       "                                         Image-URL-S  \\\n",
       "0  http://images.amazon.com/images/P/0195153448.0...   \n",
       "1  http://images.amazon.com/images/P/0002005018.0...   \n",
       "2  http://images.amazon.com/images/P/0060973129.0...   \n",
       "3  http://images.amazon.com/images/P/0374157065.0...   \n",
       "4  http://images.amazon.com/images/P/0393045218.0...   \n",
       "\n",
       "                                         Image-URL-M  \\\n",
       "0  http://images.amazon.com/images/P/0195153448.0...   \n",
       "1  http://images.amazon.com/images/P/0002005018.0...   \n",
       "2  http://images.amazon.com/images/P/0060973129.0...   \n",
       "3  http://images.amazon.com/images/P/0374157065.0...   \n",
       "4  http://images.amazon.com/images/P/0393045218.0...   \n",
       "\n",
       "                                         Image-URL-L  \n",
       "0  http://images.amazon.com/images/P/0195153448.0...  \n",
       "1  http://images.amazon.com/images/P/0002005018.0...  \n",
       "2  http://images.amazon.com/images/P/0060973129.0...  \n",
       "3  http://images.amazon.com/images/P/0374157065.0...  \n",
       "4  http://images.amazon.com/images/P/0393045218.0...  "
      ]
     },
     "execution_count": 3,
     "metadata": {},
     "output_type": "execute_result"
    }
   ],
   "source": [
    "df_books.head()"
   ]
  },
  {
   "cell_type": "code",
   "execution_count": 4,
   "id": "264b6d86",
   "metadata": {},
   "outputs": [
    {
     "name": "stdout",
     "output_type": "stream",
     "text": [
      "<class 'pandas.core.frame.DataFrame'>\n",
      "RangeIndex: 271360 entries, 0 to 271359\n",
      "Data columns (total 8 columns):\n",
      " #   Column               Non-Null Count   Dtype \n",
      "---  ------               --------------   ----- \n",
      " 0   ISBN                 271360 non-null  object\n",
      " 1   Book-Title           271360 non-null  object\n",
      " 2   Book-Author          271358 non-null  object\n",
      " 3   Year-Of-Publication  271360 non-null  object\n",
      " 4   Publisher            271358 non-null  object\n",
      " 5   Image-URL-S          271360 non-null  object\n",
      " 6   Image-URL-M          271360 non-null  object\n",
      " 7   Image-URL-L          271357 non-null  object\n",
      "dtypes: object(8)\n",
      "memory usage: 16.6+ MB\n"
     ]
    }
   ],
   "source": [
    "df_books.info()"
   ]
  },
  {
   "cell_type": "code",
   "execution_count": 5,
   "id": "b303e3ea",
   "metadata": {},
   "outputs": [
    {
     "data": {
      "text/plain": [
       "(271360, 8)"
      ]
     },
     "execution_count": 5,
     "metadata": {},
     "output_type": "execute_result"
    }
   ],
   "source": [
    "df_books.shape"
   ]
  },
  {
   "cell_type": "code",
   "execution_count": 6,
   "id": "7832da33",
   "metadata": {},
   "outputs": [
    {
     "data": {
      "text/plain": [
       "ISBN                   0\n",
       "Book-Title             0\n",
       "Book-Author            2\n",
       "Year-Of-Publication    0\n",
       "Publisher              2\n",
       "Image-URL-S            0\n",
       "Image-URL-M            0\n",
       "Image-URL-L            3\n",
       "dtype: int64"
      ]
     },
     "execution_count": 6,
     "metadata": {},
     "output_type": "execute_result"
    }
   ],
   "source": [
    "df_books.isnull().sum()"
   ]
  },
  {
   "cell_type": "code",
   "execution_count": 7,
   "id": "444ff4ee",
   "metadata": {},
   "outputs": [],
   "source": [
    "column = ['Book-Author','Publisher','Image-URL-L']\n",
    "list = []\n",
    "for i in column:\n",
    "    index = df_books[df_books[i].isnull()]\n",
    "    list.extend(index['ISBN'].tolist())"
   ]
  },
  {
   "cell_type": "code",
   "execution_count": 8,
   "id": "cc94a5b9",
   "metadata": {},
   "outputs": [
    {
     "data": {
      "text/plain": [
       "['0751352497',\n",
       " '9627982032',\n",
       " '193169656X',\n",
       " '1931696993',\n",
       " '078946697X',\n",
       " '2070426769',\n",
       " '0789466953']"
      ]
     },
     "execution_count": 8,
     "metadata": {},
     "output_type": "execute_result"
    }
   ],
   "source": [
    "list"
   ]
  },
  {
   "cell_type": "code",
   "execution_count": 9,
   "id": "56ca5f0d",
   "metadata": {},
   "outputs": [],
   "source": [
    "df_rating = pd.read_csv('Ratings.csv')"
   ]
  },
  {
   "cell_type": "code",
   "execution_count": 10,
   "id": "283f7f97",
   "metadata": {},
   "outputs": [
    {
     "name": "stdout",
     "output_type": "stream",
     "text": [
      "<class 'pandas.core.frame.DataFrame'>\n",
      "RangeIndex: 1149780 entries, 0 to 1149779\n",
      "Data columns (total 3 columns):\n",
      " #   Column       Non-Null Count    Dtype \n",
      "---  ------       --------------    ----- \n",
      " 0   User-ID      1149780 non-null  int64 \n",
      " 1   ISBN         1149780 non-null  object\n",
      " 2   Book-Rating  1149780 non-null  int64 \n",
      "dtypes: int64(2), object(1)\n",
      "memory usage: 26.3+ MB\n"
     ]
    }
   ],
   "source": [
    "df_rating.info()"
   ]
  },
  {
   "cell_type": "code",
   "execution_count": 11,
   "id": "a3ef21d2",
   "metadata": {},
   "outputs": [],
   "source": [
    "df_user = pd.read_csv('Users.csv')"
   ]
  },
  {
   "cell_type": "code",
   "execution_count": 12,
   "id": "8a6beb60",
   "metadata": {},
   "outputs": [
    {
     "name": "stdout",
     "output_type": "stream",
     "text": [
      "<class 'pandas.core.frame.DataFrame'>\n",
      "RangeIndex: 278858 entries, 0 to 278857\n",
      "Data columns (total 3 columns):\n",
      " #   Column    Non-Null Count   Dtype  \n",
      "---  ------    --------------   -----  \n",
      " 0   User-ID   278858 non-null  int64  \n",
      " 1   Location  278858 non-null  object \n",
      " 2   Age       168096 non-null  float64\n",
      "dtypes: float64(1), int64(1), object(1)\n",
      "memory usage: 6.4+ MB\n"
     ]
    }
   ],
   "source": [
    "df_user.info()"
   ]
  },
  {
   "cell_type": "code",
   "execution_count": 13,
   "id": "ce0b1834",
   "metadata": {},
   "outputs": [
    {
     "data": {
      "text/plain": [
       "User-ID          0\n",
       "Location         0\n",
       "Age         110762\n",
       "dtype: int64"
      ]
     },
     "execution_count": 13,
     "metadata": {},
     "output_type": "execute_result"
    }
   ],
   "source": [
    "df_user.isnull().sum()"
   ]
  },
  {
   "cell_type": "code",
   "execution_count": 14,
   "id": "314db4cb",
   "metadata": {},
   "outputs": [
    {
     "data": {
      "image/png": "[encoded data removed]",
      "text/plain": [
       "<Figure size 640x480 with 1 Axes>"
      ]
     },
     "metadata": {},
     "output_type": "display_data"
    }
   ],
   "source": [
    "# Graph on the basis of different Age\n",
    "\n",
    "plt.hist(x = df_user['Age'],bins=[0,10,20,30,40,50,60,70,80,90,100],histtype='bar',edgecolor='black')\n",
    "plt.title('Age Range')\n",
    "plt.xlabel('age')\n",
    "plt.ylabel('counts')\n",
    "plt.show()"
   ]
  },
  {
   "cell_type": "code",
   "execution_count": 15,
   "id": "b37014c7",
   "metadata": {},
   "outputs": [
    {
     "name": "stdout",
     "output_type": "stream",
     "text": [
      "[nan, 0.0, 1.0, 2.0, 3.0, 4.0, 5.0, 6.0, 7.0, 8.0, 9.0, 10.0, 11.0, 12.0, 13.0, 14.0, 15.0, 16.0, 17.0, 18.0, 19.0, 20.0, 21.0, 22.0, 23.0, 24.0, 25.0, 26.0, 27.0, 28.0, 29.0, 30.0, 31.0, 32.0, 33.0, 34.0, 35.0, 36.0, 37.0, 38.0, 39.0, 40.0, 41.0, 42.0, 43.0, 44.0, 45.0, 46.0, 47.0, 48.0, 49.0, 50.0, 51.0, 52.0, 53.0, 54.0, 55.0, 56.0, 57.0, 58.0, 59.0, 60.0, 61.0, 62.0, 63.0, 64.0, 65.0, 66.0, 67.0, 68.0, 69.0, 70.0, 71.0, 72.0, 73.0, 74.0, 75.0, 76.0, 77.0, 78.0, 79.0, 80.0, 81.0, 82.0, 83.0, 84.0, 85.0, 86.0, 87.0, 88.0, 89.0, 90.0, 91.0, 92.0, 93.0, 94.0, 95.0, 96.0, 97.0, 98.0, 99.0, 100.0, 101.0, 102.0, 103.0, 104.0, 105.0, 106.0, 107.0, 108.0, 109.0, 110.0, 111.0, 113.0, 114.0, 115.0, 116.0, 118.0, 119.0, 123.0, 124.0, 127.0, 128.0, 132.0, 133.0, 136.0, 137.0, 138.0, 140.0, 141.0, 143.0, 146.0, 147.0, 148.0, 151.0, 152.0, 156.0, 157.0, 159.0, 162.0, 168.0, 172.0, 175.0, 183.0, 186.0, 189.0, 199.0, 200.0, 201.0, 204.0, 207.0, 208.0, 209.0, 210.0, 212.0, 219.0, 220.0, 223.0, 226.0, 228.0, 229.0, 230.0, 231.0, 237.0, 239.0, 244.0]\n"
     ]
    }
   ],
   "source": [
    "print(sorted(df_user['Age'].unique()))"
   ]
  },
  {
   "cell_type": "code",
   "execution_count": 16,
   "id": "906469d8",
   "metadata": {},
   "outputs": [],
   "source": [
    "df_user.loc[(df_user['Age'] <= 5) | (df_user['Age'] > 100), 'Age'] = np.nan"
   ]
  },
  {
   "cell_type": "code",
   "execution_count": 17,
   "id": "fa8c8f59",
   "metadata": {},
   "outputs": [],
   "source": [
    "df_user['Age'] = df_user['Age'].fillna(df_user.groupby('Location')['Age'].transform('median'))"
   ]
  },
  {
   "cell_type": "code",
   "execution_count": 18,
   "id": "e9ad0b36",
   "metadata": {},
   "outputs": [
    {
     "data": {
      "text/plain": [
       "18593"
      ]
     },
     "execution_count": 18,
     "metadata": {},
     "output_type": "execute_result"
    }
   ],
   "source": [
    "df_user['Age'].isnull().sum()"
   ]
  },
  {
   "cell_type": "code",
   "execution_count": 19,
   "id": "8eab35e2",
   "metadata": {},
   "outputs": [],
   "source": [
    "df_user['Age'].fillna(df_user.Age.mean(),inplace=True)"
   ]
  },
  {
   "cell_type": "code",
   "execution_count": 20,
   "id": "57be62e7",
   "metadata": {},
   "outputs": [],
   "source": [
    "df = df_user.copy()\n",
    "df = pd.merge(df,df_rating,on='User-ID')\n",
    "df = pd.merge(df,df_books,on='ISBN')"
   ]
  },
  {
   "cell_type": "code",
   "execution_count": 21,
   "id": "acb0f63f",
   "metadata": {},
   "outputs": [],
   "source": [
    "df = df.dropna()"
   ]
  },
  {
   "cell_type": "code",
   "execution_count": 22,
   "id": "4dc589d7",
   "metadata": {},
   "outputs": [
    {
     "data": {
      "text/plain": [
       "User-ID                0\n",
       "Location               0\n",
       "Age                    0\n",
       "ISBN                   0\n",
       "Book-Rating            0\n",
       "Book-Title             0\n",
       "Book-Author            0\n",
       "Year-Of-Publication    0\n",
       "Publisher              0\n",
       "Image-URL-S            0\n",
       "Image-URL-M            0\n",
       "Image-URL-L            0\n",
       "dtype: int64"
      ]
     },
     "execution_count": 22,
     "metadata": {},
     "output_type": "execute_result"
    }
   ],
   "source": [
    "df.isnull().sum()"
   ]
  },
  {
   "cell_type": "code",
   "execution_count": 23,
   "id": "a70bcf8d",
   "metadata": {},
   "outputs": [
    {
     "name": "stdout",
     "output_type": "stream",
     "text": [
      "<class 'pandas.core.frame.DataFrame'>\n",
      "Index: 1031128 entries, 0 to 1031135\n",
      "Data columns (total 12 columns):\n",
      " #   Column               Non-Null Count    Dtype  \n",
      "---  ------               --------------    -----  \n",
      " 0   User-ID              1031128 non-null  int64  \n",
      " 1   Location             1031128 non-null  object \n",
      " 2   Age                  1031128 non-null  float64\n",
      " 3   ISBN                 1031128 non-null  object \n",
      " 4   Book-Rating          1031128 non-null  int64  \n",
      " 5   Book-Title           1031128 non-null  object \n",
      " 6   Book-Author          1031128 non-null  object \n",
      " 7   Year-Of-Publication  1031128 non-null  object \n",
      " 8   Publisher            1031128 non-null  object \n",
      " 9   Image-URL-S          1031128 non-null  object \n",
      " 10  Image-URL-M          1031128 non-null  object \n",
      " 11  Image-URL-L          1031128 non-null  object \n",
      "dtypes: float64(1), int64(2), object(9)\n",
      "memory usage: 102.3+ MB\n"
     ]
    }
   ],
   "source": [
    "df.info()"
   ]
  },
  {
   "cell_type": "code",
   "execution_count": 24,
   "id": "81136036",
   "metadata": {},
   "outputs": [
    {
     "data": {
      "image/png": "[encoded data removed]",
      "text/plain": [
       "<Figure size 1500x700 with 1 Axes>"
      ]
     },
     "metadata": {},
     "output_type": "display_data"
    }
   ],
   "source": [
    "# Top 10 Authors which have written the most books\n",
    "\n",
    "top_authors = df['Book-Author'].value_counts().iloc[:10].index\n",
    "df_top_authors = df[df['Book-Author'].isin(top_authors)]\n",
    "\n",
    "plt.figure(figsize=(15, 7))\n",
    "sns.countplot(data=df_top_authors, y='Book-Author')\n",
    "plt.show()"
   ]
  },
  {
   "cell_type": "code",
   "execution_count": 25,
   "id": "91a06534",
   "metadata": {},
   "outputs": [
    {
     "data": {
      "image/png": "[encoded data removed]",
      "text/plain": [
       "<Figure size 640x480 with 1 Axes>"
      ]
     },
     "metadata": {},
     "output_type": "display_data"
    }
   ],
   "source": [
    "# Graph on the basis of different ratings\n",
    "\n",
    "plt.hist(x = df['Book-Rating'],bins=[1,4,4.1,4.2,4.3,4.4,4.5,4.6,4.7,4.8,4.9,5],histtype='bar',edgecolor='black')\n",
    "plt.title('Rating Range')\n",
    "plt.xlabel('Rating')\n",
    "plt.ylabel('counts')\n",
    "plt.show()"
   ]
  },
  {
   "cell_type": "markdown",
   "id": "76acafd6",
   "metadata": {},
   "source": [
    "## Popularity Search"
   ]
  },
  {
   "cell_type": "code",
   "execution_count": 26,
   "id": "1fabcda8",
   "metadata": {},
   "outputs": [],
   "source": [
    "popular = {}\n",
    "\n",
    "def top_books(text, df):\n",
    "    if text['Book-Title'] in popular:\n",
    "        popular[text['Book-Title']].append(text['User-ID'])\n",
    "    else:\n",
    "        popular[text['Book-Title']] = [text['User-ID']]\n"
   ]
  },
  {
   "cell_type": "code",
   "execution_count": 27,
   "id": "82b3571f",
   "metadata": {},
   "outputs": [],
   "source": [
    "a = df.apply(lambda row: top_books(row, df), axis=1)"
   ]
  },
  {
   "cell_type": "code",
   "execution_count": 28,
   "id": "e11c666c",
   "metadata": {},
   "outputs": [],
   "source": [
    "for title, users in popular.items():\n",
    "    popular[title] = len(users)"
   ]
  },
  {
   "cell_type": "code",
   "execution_count": 29,
   "id": "3df118a5",
   "metadata": {},
   "outputs": [],
   "source": [
    "sorted_popular = sorted(popular.items(), key=lambda x: x[1], reverse=True)"
   ]
  },
  {
   "cell_type": "code",
   "execution_count": 30,
   "id": "739e7394",
   "metadata": {},
   "outputs": [],
   "source": [
    "# Extract the book titles from the sorted_popular dictionary\n",
    "index = 0\n",
    "top_50 = []\n",
    "for book_title in sorted_popular:\n",
    "    if index != 50:\n",
    "#         print(book_title)\n",
    "        top_50.append(book_title)\n",
    "        index += 1\n"
   ]
  },
  {
   "cell_type": "code",
   "execution_count": 31,
   "id": "140fee1a",
   "metadata": {},
   "outputs": [],
   "source": [
    "sorted_book_titles = [item[0] for item in top_50]"
   ]
  },
  {
   "cell_type": "code",
   "execution_count": 32,
   "id": "51bd06d4",
   "metadata": {},
   "outputs": [],
   "source": [
    "def Top_Book(row, sorted_book_titles):\n",
    "    if row['Book-Title'] in sorted_book_titles:\n",
    "        return True\n",
    "    else:\n",
    "        return False\n",
    "\n",
    "mask = df.apply(lambda x: Top_Book(x, sorted_book_titles), axis=1)\n",
    "\n",
    "top_books_df = df[mask].drop_duplicates()\n",
    "top_books_df = top_books_df.drop_duplicates(subset=['Book-Title'])\n"
   ]
  },
  {
   "cell_type": "code",
   "execution_count": 33,
   "id": "a8b3b797",
   "metadata": {},
   "outputs": [],
   "source": [
    "book_read_counts_df = pd.DataFrame(top_50, columns=['Book-Title', 'user_read_count'])"
   ]
  },
  {
   "cell_type": "code",
   "execution_count": 34,
   "id": "7aaf77db",
   "metadata": {},
   "outputs": [],
   "source": [
    "top_books_df = top_books_df.merge(book_read_counts_df, on='Book-Title', how='left')"
   ]
  },
  {
   "cell_type": "code",
   "execution_count": 35,
   "id": "7f446e29",
   "metadata": {},
   "outputs": [
    {
     "data": {
      "text/plain": [
       "(50, 13)"
      ]
     },
     "execution_count": 35,
     "metadata": {},
     "output_type": "execute_result"
    }
   ],
   "source": [
    "top_books_df.shape"
   ]
  },
  {
   "cell_type": "code",
   "execution_count": 36,
   "id": "a35b6fc6",
   "metadata": {},
   "outputs": [],
   "source": [
    "top_books_df = top_books_df.sort_values(by='user_read_count', ascending=False)"
   ]
  },
  {
   "cell_type": "code",
   "execution_count": 37,
   "id": "3f03c6f4",
   "metadata": {},
   "outputs": [
    {
     "data": {
      "text/html": [
       "<div>\n",
       "<style scoped>\n",
       "    .dataframe tbody tr th:only-of-type {\n",
       "        vertical-align: middle;\n",
       "    }\n",
       "\n",
       "    .dataframe tbody tr th {\n",
       "        vertical-align: top;\n",
       "    }\n",
       "\n",
       "    .dataframe thead th {\n",
       "        text-align: right;\n",
       "    }\n",
       "</style>\n",
       "<table border=\"1\" class=\"dataframe\">\n",
       "  <thead>\n",
       "    <tr style=\"text-align: right;\">\n",
       "      <th></th>\n",
       "      <th>User-ID</th>\n",
       "      <th>Location</th>\n",
       "      <th>Age</th>\n",
       "      <th>ISBN</th>\n",
       "      <th>Book-Rating</th>\n",
       "      <th>Book-Title</th>\n",
       "      <th>Book-Author</th>\n",
       "      <th>Year-Of-Publication</th>\n",
       "      <th>Publisher</th>\n",
       "      <th>Image-URL-S</th>\n",
       "      <th>Image-URL-M</th>\n",
       "      <th>Image-URL-L</th>\n",
       "      <th>user_read_count</th>\n",
       "    </tr>\n",
       "  </thead>\n",
       "  <tbody>\n",
       "    <tr>\n",
       "      <th>1</th>\n",
       "      <td>14</td>\n",
       "      <td>mediapolis, iowa, usa</td>\n",
       "      <td>14.0</td>\n",
       "      <td>0971880107</td>\n",
       "      <td>0</td>\n",
       "      <td>Wild Animus</td>\n",
       "      <td>Rich Shapero</td>\n",
       "      <td>2004</td>\n",
       "      <td>Too Far</td>\n",
       "      <td>http://images.amazon.com/images/P/0971880107.0...</td>\n",
       "      <td>http://images.amazon.com/images/P/0971880107.0...</td>\n",
       "      <td>http://images.amazon.com/images/P/0971880107.0...</td>\n",
       "      <td>2502</td>\n",
       "    </tr>\n",
       "    <tr>\n",
       "      <th>9</th>\n",
       "      <td>243</td>\n",
       "      <td>arden hills, minnesota, usa</td>\n",
       "      <td>45.0</td>\n",
       "      <td>0316666343</td>\n",
       "      <td>0</td>\n",
       "      <td>The Lovely Bones: A Novel</td>\n",
       "      <td>Alice Sebold</td>\n",
       "      <td>2002</td>\n",
       "      <td>Little, Brown</td>\n",
       "      <td>http://images.amazon.com/images/P/0316666343.0...</td>\n",
       "      <td>http://images.amazon.com/images/P/0316666343.0...</td>\n",
       "      <td>http://images.amazon.com/images/P/0316666343.0...</td>\n",
       "      <td>1295</td>\n",
       "    </tr>\n",
       "    <tr>\n",
       "      <th>35</th>\n",
       "      <td>638</td>\n",
       "      <td>san diego, california, usa</td>\n",
       "      <td>20.0</td>\n",
       "      <td>0385504209</td>\n",
       "      <td>10</td>\n",
       "      <td>The Da Vinci Code</td>\n",
       "      <td>Dan Brown</td>\n",
       "      <td>2003</td>\n",
       "      <td>Doubleday</td>\n",
       "      <td>http://images.amazon.com/images/P/0385504209.0...</td>\n",
       "      <td>http://images.amazon.com/images/P/0385504209.0...</td>\n",
       "      <td>http://images.amazon.com/images/P/0385504209.0...</td>\n",
       "      <td>898</td>\n",
       "    </tr>\n",
       "    <tr>\n",
       "      <th>16</th>\n",
       "      <td>243</td>\n",
       "      <td>arden hills, minnesota, usa</td>\n",
       "      <td>45.0</td>\n",
       "      <td>044023722X</td>\n",
       "      <td>7</td>\n",
       "      <td>A Painted House</td>\n",
       "      <td>John Grisham</td>\n",
       "      <td>2001</td>\n",
       "      <td>Dell Publishing Company</td>\n",
       "      <td>http://images.amazon.com/images/P/044023722X.0...</td>\n",
       "      <td>http://images.amazon.com/images/P/044023722X.0...</td>\n",
       "      <td>http://images.amazon.com/images/P/044023722X.0...</td>\n",
       "      <td>838</td>\n",
       "    </tr>\n",
       "    <tr>\n",
       "      <th>29</th>\n",
       "      <td>453</td>\n",
       "      <td>charleston, west virginia, usa</td>\n",
       "      <td>41.0</td>\n",
       "      <td>0312278586</td>\n",
       "      <td>6</td>\n",
       "      <td>The Nanny Diaries: A Novel</td>\n",
       "      <td>Emma McLaughlin</td>\n",
       "      <td>2002</td>\n",
       "      <td>St. Martin's Press</td>\n",
       "      <td>http://images.amazon.com/images/P/0312278586.0...</td>\n",
       "      <td>http://images.amazon.com/images/P/0312278586.0...</td>\n",
       "      <td>http://images.amazon.com/images/P/0312278586.0...</td>\n",
       "      <td>828</td>\n",
       "    </tr>\n",
       "  </tbody>\n",
       "</table>\n",
       "</div>"
      ],
      "text/plain": [
       "    User-ID                        Location   Age        ISBN  Book-Rating  \\\n",
       "1        14           mediapolis, iowa, usa  14.0  0971880107            0   \n",
       "9       243     arden hills, minnesota, usa  45.0  0316666343            0   \n",
       "35      638      san diego, california, usa  20.0  0385504209           10   \n",
       "16      243     arden hills, minnesota, usa  45.0  044023722X            7   \n",
       "29      453  charleston, west virginia, usa  41.0  0312278586            6   \n",
       "\n",
       "                    Book-Title      Book-Author Year-Of-Publication  \\\n",
       "1                  Wild Animus     Rich Shapero                2004   \n",
       "9    The Lovely Bones: A Novel     Alice Sebold                2002   \n",
       "35           The Da Vinci Code        Dan Brown                2003   \n",
       "16             A Painted House     John Grisham                2001   \n",
       "29  The Nanny Diaries: A Novel  Emma McLaughlin                2002   \n",
       "\n",
       "                  Publisher  \\\n",
       "1                   Too Far   \n",
       "9             Little, Brown   \n",
       "35                Doubleday   \n",
       "16  Dell Publishing Company   \n",
       "29       St. Martin's Press   \n",
       "\n",
       "                                          Image-URL-S  \\\n",
       "1   http://images.amazon.com/images/P/0971880107.0...   \n",
       "9   http://images.amazon.com/images/P/0316666343.0...   \n",
       "35  http://images.amazon.com/images/P/0385504209.0...   \n",
       "16  http://images.amazon.com/images/P/044023722X.0...   \n",
       "29  http://images.amazon.com/images/P/0312278586.0...   \n",
       "\n",
       "                                          Image-URL-M  \\\n",
       "1   http://images.amazon.com/images/P/0971880107.0...   \n",
       "9   http://images.amazon.com/images/P/0316666343.0...   \n",
       "35  http://images.amazon.com/images/P/0385504209.0...   \n",
       "16  http://images.amazon.com/images/P/044023722X.0...   \n",
       "29  http://images.amazon.com/images/P/0312278586.0...   \n",
       "\n",
       "                                          Image-URL-L  user_read_count  \n",
       "1   http://images.amazon.com/images/P/0971880107.0...             2502  \n",
       "9   http://images.amazon.com/images/P/0316666343.0...             1295  \n",
       "35  http://images.amazon.com/images/P/0385504209.0...              898  \n",
       "16  http://images.amazon.com/images/P/044023722X.0...              838  \n",
       "29  http://images.amazon.com/images/P/0312278586.0...              828  "
      ]
     },
     "execution_count": 37,
     "metadata": {},
     "output_type": "execute_result"
    }
   ],
   "source": [
    "top_books_df.head()"
   ]
  },
  {
   "cell_type": "code",
   "execution_count": 38,
   "id": "9a98bcd3",
   "metadata": {},
   "outputs": [],
   "source": [
    "top_books_df = top_books_df[['Book-Title','Book-Author','Year-Of-Publication','Publisher','Image-URL-L','user_read_count']]"
   ]
  },
  {
   "cell_type": "code",
   "execution_count": 39,
   "id": "b2dc3153",
   "metadata": {},
   "outputs": [],
   "source": [
    "import pickle"
   ]
  },
  {
   "cell_type": "code",
   "execution_count": 40,
   "id": "e974b809",
   "metadata": {},
   "outputs": [],
   "source": [
    "# pickle.dump(top_books_df,open('popular_50.pkl','wb'))"
   ]
  },
  {
   "cell_type": "markdown",
   "id": "1ae60c46",
   "metadata": {},
   "source": [
    "## Collaborative Approach"
   ]
  },
  {
   "cell_type": "code",
   "execution_count": 41,
   "id": "300c093d",
   "metadata": {},
   "outputs": [],
   "source": [
    "df_new = df.groupby('User-ID').count()['Book-Rating']>200\n",
    "df_new = df_new[df_new].index"
   ]
  },
  {
   "cell_type": "code",
   "execution_count": 42,
   "id": "2930015f",
   "metadata": {},
   "outputs": [],
   "source": [
    "filtered_ratings = df[df['User-ID'].isin(df_new)]"
   ]
  },
  {
   "cell_type": "code",
   "execution_count": 43,
   "id": "b2673579",
   "metadata": {},
   "outputs": [],
   "source": [
    "y = filtered_ratings.groupby('Book-Title').count()['Book-Rating']>=50\n",
    "famous_books = y[y].index"
   ]
  },
  {
   "cell_type": "code",
   "execution_count": 44,
   "id": "e5453fc9",
   "metadata": {},
   "outputs": [],
   "source": [
    "final_ratings = filtered_ratings[filtered_ratings['Book-Title'].isin(famous_books)]"
   ]
  },
  {
   "cell_type": "code",
   "execution_count": 46,
   "id": "fc23d30c",
   "metadata": {},
   "outputs": [],
   "source": [
    "pt = final_ratings.pivot_table(index='Book-Title',columns='User-ID',values='Book-Rating')"
   ]
  },
  {
   "cell_type": "code",
   "execution_count": 47,
   "id": "4c18a845",
   "metadata": {},
   "outputs": [],
   "source": [
    "pt.fillna(0,inplace=True)"
   ]
  },
  {
   "cell_type": "code",
   "execution_count": 48,
   "id": "6608c4ff",
   "metadata": {},
   "outputs": [
    {
     "data": {
      "text/html": [
       "<div>\n",
       "<style scoped>\n",
       "    .dataframe tbody tr th:only-of-type {\n",
       "        vertical-align: middle;\n",
       "    }\n",
       "\n",
       "    .dataframe tbody tr th {\n",
       "        vertical-align: top;\n",
       "    }\n",
       "\n",
       "    .dataframe thead th {\n",
       "        text-align: right;\n",
       "    }\n",
       "</style>\n",
       "<table border=\"1\" class=\"dataframe\">\n",
       "  <thead>\n",
       "    <tr style=\"text-align: right;\">\n",
       "      <th>User-ID</th>\n",
       "      <th>254</th>\n",
       "      <th>2276</th>\n",
       "      <th>2766</th>\n",
       "      <th>2977</th>\n",
       "      <th>3363</th>\n",
       "      <th>4017</th>\n",
       "      <th>4385</th>\n",
       "      <th>6251</th>\n",
       "      <th>6323</th>\n",
       "      <th>6543</th>\n",
       "      <th>...</th>\n",
       "      <th>271705</th>\n",
       "      <th>273979</th>\n",
       "      <th>274004</th>\n",
       "      <th>274061</th>\n",
       "      <th>274301</th>\n",
       "      <th>274308</th>\n",
       "      <th>275970</th>\n",
       "      <th>277427</th>\n",
       "      <th>277639</th>\n",
       "      <th>278418</th>\n",
       "    </tr>\n",
       "    <tr>\n",
       "      <th>Book-Title</th>\n",
       "      <th></th>\n",
       "      <th></th>\n",
       "      <th></th>\n",
       "      <th></th>\n",
       "      <th></th>\n",
       "      <th></th>\n",
       "      <th></th>\n",
       "      <th></th>\n",
       "      <th></th>\n",
       "      <th></th>\n",
       "      <th></th>\n",
       "      <th></th>\n",
       "      <th></th>\n",
       "      <th></th>\n",
       "      <th></th>\n",
       "      <th></th>\n",
       "      <th></th>\n",
       "      <th></th>\n",
       "      <th></th>\n",
       "      <th></th>\n",
       "      <th></th>\n",
       "    </tr>\n",
       "  </thead>\n",
       "  <tbody>\n",
       "    <tr>\n",
       "      <th>1984</th>\n",
       "      <td>9.0</td>\n",
       "      <td>0.0</td>\n",
       "      <td>0.0</td>\n",
       "      <td>0.0</td>\n",
       "      <td>0.0</td>\n",
       "      <td>0.0</td>\n",
       "      <td>0.0</td>\n",
       "      <td>0.0</td>\n",
       "      <td>0.0</td>\n",
       "      <td>0.0</td>\n",
       "      <td>...</td>\n",
       "      <td>10.0</td>\n",
       "      <td>0.0</td>\n",
       "      <td>0.0</td>\n",
       "      <td>0.0</td>\n",
       "      <td>0.0</td>\n",
       "      <td>0.0</td>\n",
       "      <td>0.0</td>\n",
       "      <td>0.0</td>\n",
       "      <td>0.0</td>\n",
       "      <td>0.0</td>\n",
       "    </tr>\n",
       "    <tr>\n",
       "      <th>1st to Die: A Novel</th>\n",
       "      <td>0.0</td>\n",
       "      <td>0.0</td>\n",
       "      <td>0.0</td>\n",
       "      <td>0.0</td>\n",
       "      <td>0.0</td>\n",
       "      <td>0.0</td>\n",
       "      <td>0.0</td>\n",
       "      <td>0.0</td>\n",
       "      <td>0.0</td>\n",
       "      <td>9.0</td>\n",
       "      <td>...</td>\n",
       "      <td>0.0</td>\n",
       "      <td>0.0</td>\n",
       "      <td>0.0</td>\n",
       "      <td>0.0</td>\n",
       "      <td>0.0</td>\n",
       "      <td>0.0</td>\n",
       "      <td>0.0</td>\n",
       "      <td>0.0</td>\n",
       "      <td>0.0</td>\n",
       "      <td>0.0</td>\n",
       "    </tr>\n",
       "    <tr>\n",
       "      <th>2nd Chance</th>\n",
       "      <td>0.0</td>\n",
       "      <td>10.0</td>\n",
       "      <td>0.0</td>\n",
       "      <td>0.0</td>\n",
       "      <td>0.0</td>\n",
       "      <td>0.0</td>\n",
       "      <td>0.0</td>\n",
       "      <td>0.0</td>\n",
       "      <td>0.0</td>\n",
       "      <td>0.0</td>\n",
       "      <td>...</td>\n",
       "      <td>0.0</td>\n",
       "      <td>0.0</td>\n",
       "      <td>0.0</td>\n",
       "      <td>0.0</td>\n",
       "      <td>0.0</td>\n",
       "      <td>0.0</td>\n",
       "      <td>0.0</td>\n",
       "      <td>0.0</td>\n",
       "      <td>0.0</td>\n",
       "      <td>0.0</td>\n",
       "    </tr>\n",
       "    <tr>\n",
       "      <th>4 Blondes</th>\n",
       "      <td>0.0</td>\n",
       "      <td>0.0</td>\n",
       "      <td>0.0</td>\n",
       "      <td>0.0</td>\n",
       "      <td>0.0</td>\n",
       "      <td>0.0</td>\n",
       "      <td>0.0</td>\n",
       "      <td>0.0</td>\n",
       "      <td>0.0</td>\n",
       "      <td>0.0</td>\n",
       "      <td>...</td>\n",
       "      <td>0.0</td>\n",
       "      <td>0.0</td>\n",
       "      <td>0.0</td>\n",
       "      <td>0.0</td>\n",
       "      <td>0.0</td>\n",
       "      <td>0.0</td>\n",
       "      <td>0.0</td>\n",
       "      <td>0.0</td>\n",
       "      <td>0.0</td>\n",
       "      <td>0.0</td>\n",
       "    </tr>\n",
       "    <tr>\n",
       "      <th>A Bend in the Road</th>\n",
       "      <td>0.0</td>\n",
       "      <td>0.0</td>\n",
       "      <td>7.0</td>\n",
       "      <td>0.0</td>\n",
       "      <td>0.0</td>\n",
       "      <td>0.0</td>\n",
       "      <td>0.0</td>\n",
       "      <td>0.0</td>\n",
       "      <td>0.0</td>\n",
       "      <td>0.0</td>\n",
       "      <td>...</td>\n",
       "      <td>0.0</td>\n",
       "      <td>0.0</td>\n",
       "      <td>0.0</td>\n",
       "      <td>0.0</td>\n",
       "      <td>0.0</td>\n",
       "      <td>0.0</td>\n",
       "      <td>0.0</td>\n",
       "      <td>0.0</td>\n",
       "      <td>0.0</td>\n",
       "      <td>0.0</td>\n",
       "    </tr>\n",
       "  </tbody>\n",
       "</table>\n",
       "<p>5 rows × 810 columns</p>\n",
       "</div>"
      ],
      "text/plain": [
       "User-ID              254     2276    2766    2977    3363    4017    4385    \\\n",
       "Book-Title                                                                    \n",
       "1984                    9.0     0.0     0.0     0.0     0.0     0.0     0.0   \n",
       "1st to Die: A Novel     0.0     0.0     0.0     0.0     0.0     0.0     0.0   \n",
       "2nd Chance              0.0    10.0     0.0     0.0     0.0     0.0     0.0   \n",
       "4 Blondes               0.0     0.0     0.0     0.0     0.0     0.0     0.0   \n",
       "A Bend in the Road      0.0     0.0     7.0     0.0     0.0     0.0     0.0   \n",
       "\n",
       "User-ID              6251    6323    6543    ...  271705  273979  274004  \\\n",
       "Book-Title                                   ...                           \n",
       "1984                    0.0     0.0     0.0  ...    10.0     0.0     0.0   \n",
       "1st to Die: A Novel     0.0     0.0     9.0  ...     0.0     0.0     0.0   \n",
       "2nd Chance              0.0     0.0     0.0  ...     0.0     0.0     0.0   \n",
       "4 Blondes               0.0     0.0     0.0  ...     0.0     0.0     0.0   \n",
       "A Bend in the Road      0.0     0.0     0.0  ...     0.0     0.0     0.0   \n",
       "\n",
       "User-ID              274061  274301  274308  275970  277427  277639  278418  \n",
       "Book-Title                                                                   \n",
       "1984                    0.0     0.0     0.0     0.0     0.0     0.0     0.0  \n",
       "1st to Die: A Novel     0.0     0.0     0.0     0.0     0.0     0.0     0.0  \n",
       "2nd Chance              0.0     0.0     0.0     0.0     0.0     0.0     0.0  \n",
       "4 Blondes               0.0     0.0     0.0     0.0     0.0     0.0     0.0  \n",
       "A Bend in the Road      0.0     0.0     0.0     0.0     0.0     0.0     0.0  \n",
       "\n",
       "[5 rows x 810 columns]"
      ]
     },
     "execution_count": 48,
     "metadata": {},
     "output_type": "execute_result"
    }
   ],
   "source": [
    "pt.head()"
   ]
  },
  {
   "cell_type": "code",
   "execution_count": 49,
   "id": "d4a01cdd",
   "metadata": {},
   "outputs": [
    {
     "data": {
      "text/plain": [
       "(706, 810)"
      ]
     },
     "execution_count": 49,
     "metadata": {},
     "output_type": "execute_result"
    }
   ],
   "source": [
    "pt.shape"
   ]
  },
  {
   "cell_type": "code",
   "execution_count": 50,
   "id": "798fea48",
   "metadata": {},
   "outputs": [],
   "source": [
    "from sklearn.metrics.pairwise import cosine_similarity"
   ]
  },
  {
   "cell_type": "code",
   "execution_count": 51,
   "id": "6b083a91",
   "metadata": {},
   "outputs": [],
   "source": [
    "\n",
    "similarity_scores = cosine_similarity(pt)"
   ]
  },
  {
   "cell_type": "code",
   "execution_count": 52,
   "id": "7d6ef956",
   "metadata": {},
   "outputs": [
    {
     "data": {
      "text/plain": [
       "(706, 706)"
      ]
     },
     "execution_count": 52,
     "metadata": {},
     "output_type": "execute_result"
    }
   ],
   "source": [
    "similarity_scores.shape"
   ]
  },
  {
   "cell_type": "code",
   "execution_count": 53,
   "id": "32acf3d1",
   "metadata": {},
   "outputs": [
    {
     "name": "stdout",
     "output_type": "stream",
     "text": [
      "<class 'pandas.core.frame.DataFrame'>\n",
      "RangeIndex: 271360 entries, 0 to 271359\n",
      "Data columns (total 8 columns):\n",
      " #   Column               Non-Null Count   Dtype \n",
      "---  ------               --------------   ----- \n",
      " 0   ISBN                 271360 non-null  object\n",
      " 1   Book-Title           271360 non-null  object\n",
      " 2   Book-Author          271358 non-null  object\n",
      " 3   Year-Of-Publication  271360 non-null  object\n",
      " 4   Publisher            271358 non-null  object\n",
      " 5   Image-URL-S          271360 non-null  object\n",
      " 6   Image-URL-M          271360 non-null  object\n",
      " 7   Image-URL-L          271357 non-null  object\n",
      "dtypes: object(8)\n",
      "memory usage: 16.6+ MB\n"
     ]
    }
   ],
   "source": [
    "df_books.info()"
   ]
  },
  {
   "cell_type": "code",
   "execution_count": 54,
   "id": "4f57208f",
   "metadata": {},
   "outputs": [],
   "source": [
    "def recommend(name):\n",
    "    index = np.where(pt.index==name)[0][0]\n",
    "    similiar_items = sorted(enumerate(similarity_scores[index]), key=lambda x: x[1], reverse=True)[1:6]\n",
    "\n",
    "    \n",
    "    data = []\n",
    "    for i in similiar_items:\n",
    "        item = []\n",
    "        temp_df = df_books[df_books['Book-Title'] == pt.index[i[0]]]\n",
    "        item.extend(temp_df.drop_duplicates('Book-Title')['Book-Title'].values)\n",
    "        item.extend(temp_df.drop_duplicates('Book-Title')['Book-Author'].values)\n",
    "        item.extend(temp_df.drop_duplicates('Book-Title')['Year-Of-Publication'].values)\n",
    "        item.extend(temp_df.drop_duplicates('Book-Title')['Publisher'].values)\n",
    "        item.extend(temp_df.drop_duplicates('Book-Title')['Image-URL-L'].values)\n",
    "        \n",
    "        data.append(item)\n",
    "    \n",
    "    return data"
   ]
  },
  {
   "cell_type": "code",
   "execution_count": 55,
   "id": "9ca80413",
   "metadata": {},
   "outputs": [
    {
     "data": {
      "text/plain": [
       "[['Angels &amp; Demons',\n",
       "  'Dan Brown',\n",
       "  2001,\n",
       "  'Pocket Star',\n",
       "  'http://images.amazon.com/images/P/0671027360.01.LZZZZZZZ.jpg'],\n",
       " ['Touching Evil',\n",
       "  'Kay Hooper',\n",
       "  2001,\n",
       "  'Bantam Books',\n",
       "  'http://images.amazon.com/images/P/0553583441.01.LZZZZZZZ.jpg'],\n",
       " ['Saving Faith',\n",
       "  'David Baldacci',\n",
       "  2000,\n",
       "  'Warner Vision',\n",
       "  'http://images.amazon.com/images/P/0446608890.01.LZZZZZZZ.jpg'],\n",
       " [\"The Sweet Potato Queens' Book of Love\",\n",
       "  'JILL CONNER BROWNE',\n",
       "  1999,\n",
       "  'Three Rivers Press',\n",
       "  'http://images.amazon.com/images/P/0609804138.01.LZZZZZZZ.jpg'],\n",
       " ['Middlesex: A Novel',\n",
       "  'Jeffrey Eugenides',\n",
       "  2003,\n",
       "  'Picador',\n",
       "  'http://images.amazon.com/images/P/0312422156.01.LZZZZZZZ.jpg']]"
      ]
     },
     "execution_count": 55,
     "metadata": {},
     "output_type": "execute_result"
    }
   ],
   "source": [
    "recommend('The Da Vinci Code')"
   ]
  },
  {
   "cell_type": "code",
   "execution_count": 56,
   "id": "0ef9fdf3",
   "metadata": {},
   "outputs": [],
   "source": [
    "# pickle.dump(pt,open('pt.pkl','wb'))\n",
    "# pickle.dump(similarity_scores,open('similarity.pkl','wb'))\n",
    "# pickle.dump(df_books,open('df.pkl','wb'))"
   ]
  },
  {
   "cell_type": "code",
   "execution_count": 60,
   "id": "f74b0cb5",
   "metadata": {},
   "outputs": [],
   "source": [
    "df_books.to_csv('books.csv', index=False)"
   ]
  },
  {
   "cell_type": "code",
   "execution_count": 72,
   "id": "c24353b1",
   "metadata": {},
   "outputs": [],
   "source": [
    "pt.to_csv('pt.csv', index=True)"
   ]
  },
  {
   "cell_type": "code",
   "execution_count": null,
   "id": "4ced1b0f",
   "metadata": {},
   "outputs": [],
   "source": []
  }
 ],
 "metadata": {
  "kernelspec": {
   "display_name": "Python 3 (ipykernel)",
   "language": "python",
   "name": "python3"
  },
  "language_info": {
   "codemirror_mode": {
    "name": "ipython",
    "version": 3
   },
   "file_extension": ".py",
   "mimetype": "text/x-python",
   "name": "python",
   "nbconvert_exporter": "python",
   "pygments_lexer": "ipython3",
   "version": "3.11.4"
  }
 },
 "nbformat": 4,
 "nbformat_minor": 5
}
